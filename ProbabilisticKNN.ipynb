{
 "cells": [
  {
   "cell_type": "markdown",
   "metadata": {},
   "source": [
    "# Probabilistic k-NN Model (Using Only NumPy)\n",
    "\n",
    "In this notebook, we will:\n",
    "\n",
    "1. Load `dataset.csv` (containing `launch_speed, launch_angle, target`).\n",
    "2. Build a k-NN model from scratch, using only NumPy.\n",
    "3. Output a probability distribution across 8 possible classes:\n",
    "   - single\n",
    "   - double\n",
    "   - triple\n",
    "   - home run\n",
    "   - groundoutable\n",
    "   - flyoutable\n",
    "   - lineoutable"
   ]
  },
  {
   "cell_type": "code",
   "execution_count": 1,
   "metadata": {},
   "outputs": [
    {
     "name": "stdout",
     "output_type": "stream",
     "text": [
      "Data and function loaded successfully.\n"
     ]
    }
   ],
   "source": [
    "import numpy as np\n",
    "from collections import Counter\n",
    "\n",
    "# We will assume the following 8 classes:\n",
    "ALL_CLASSES = [\n",
    "    'Single',\n",
    "    'Double',\n",
    "    'Triple',\n",
    "    'Home Run',\n",
    "    'Groundoutable',\n",
    "    'Flyoutable',\n",
    "    'Lineoutable']\n",
    "\n",
    "# Load numeric columns (launch_speed, launch_angle)\n",
    "# from dataset.csv using NumPy.\n",
    "\n",
    "data_numeric = np.genfromtxt(\n",
    "    'dataset.csv',       # CSV filename/path\n",
    "    delimiter=',',\n",
    "    skip_header=1,       # skip header row\n",
    "    usecols=(0, 1),\n",
    "    dtype=float\n",
    ")\n",
    "\n",
    "# Load the target (third column) as strings:\n",
    "data_labels = np.genfromtxt(\n",
    "    'dataset.csv',\n",
    "    delimiter=',',\n",
    "    skip_header=1,\n",
    "    usecols=(2),\n",
    "    dtype=str\n",
    ")\n",
    "\n",
    "def knn_predict_probabilities(query_point, features, labels, k=3):\n",
    "    \"\"\"\n",
    "    Given:\n",
    "      query_point: (launch_speed, launch_angle)\n",
    "      features:    Nx2 array of numeric data\n",
    "      labels:      Nx1 array of string labels\n",
    "      k:           number of neighbors to consider\n",
    "    Return:\n",
    "      A dictionary mapping each class in ALL_CLASSES to a probability.\n",
    "    \"\"\"\n",
    "    # Convert query_point to an array for vectorized math\n",
    "    query_arr = np.array(query_point)\n",
    "\n",
    "    # 1. Compute Euclidean distances to all points in 'features'\n",
    "    #    features has shape (N, 2), query_arr is shape (2,)\n",
    "    diffs = features - query_arr  # shape (N, 2)\n",
    "    squared_diffs = diffs ** 2    # shape (N, 2)\n",
    "    dist_array = np.sqrt(np.sum(squared_diffs, axis=1))  # shape (N,)\n",
    "\n",
    "    # 2. Sort by distance and pick the indices of the k nearest\n",
    "    sorted_indices = np.argsort(dist_array)\n",
    "    k_nearest_indices = sorted_indices[:k]\n",
    "\n",
    "    # 3. Retrieve the labels of the k nearest neighbors\n",
    "    k_labels = labels[k_nearest_indices]\n",
    "\n",
    "    # 4. Count occurrences of each label in the k nearest\n",
    "    counts = Counter(k_labels)\n",
    "\n",
    "    # 5. Convert counts to probabilities\n",
    "    probabilities = {}\n",
    "    for cls in ALL_CLASSES:\n",
    "        probabilities[cls] = counts[cls] / k\n",
    "\n",
    "    return probabilities\n",
    "\n",
    "print(\"Data and function loaded successfully.\")"
   ]
  },
  {
   "cell_type": "markdown",
   "metadata": {},
   "source": [
    "### Example Usage\n",
    "\n",
    "We'll query the model with a hypothetical `launch_speed` and `launch_angle`, then print the probability distribution for each of the 8 classes."
   ]
  },
  {
   "cell_type": "code",
   "execution_count": 2,
   "metadata": {},
   "outputs": [
    {
     "name": "stdout",
     "output_type": "stream",
     "text": [
      "Probabilities for query = (92.4, -13.0) (k=10000):\n",
      "  Single         : 0.142\n",
      "  Double         : 0.041\n",
      "  Triple         : 0.004\n",
      "  Home Run       : 0.000\n",
      "  Groundoutable  : 0.814\n",
      "  Flyoutable     : 0.000\n",
      "  Lineoutable    : 0.000\n"
     ]
    }
   ],
   "source": [
    "# Example query:\n",
    "query_point = (92.4,-13.0)\n",
    "k_value = 10000\n",
    "\n",
    "# Compute probabilities:\n",
    "probs = knn_predict_probabilities(query_point, data_numeric, data_labels, k=k_value)\n",
    "\n",
    "print(f\"Probabilities for query = {query_point} (k={k_value}):\")\n",
    "for cls in ALL_CLASSES:\n",
    "    print(f\"  {cls:<15}: {probs[cls]:.3f}\")\n"
   ]
  }
 ],
 "metadata": {
  "kernelspec": {
   "display_name": "base",
   "language": "python",
   "name": "python3"
  },
  "language_info": {
   "codemirror_mode": {
    "name": "ipython",
    "version": 3
   },
   "file_extension": ".py",
   "mimetype": "text/x-python",
   "name": "python",
   "nbconvert_exporter": "python",
   "pygments_lexer": "ipython3",
   "version": "3.12.3"
  }
 },
 "nbformat": 4,
 "nbformat_minor": 2
}
