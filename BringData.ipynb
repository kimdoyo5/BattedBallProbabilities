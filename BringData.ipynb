{
 "cells": [
  {
   "cell_type": "code",
   "execution_count": null,
   "metadata": {},
   "outputs": [],
   "source": [
    "# pip install git+https://github.com/Jensen-holm/statcast-era-pitches.git\n",
    "import statcast_pitches\n",
    "import polars as pl"
   ]
  },
  {
   "cell_type": "code",
   "execution_count": null,
   "metadata": {},
   "outputs": [],
   "source": [
    "# load all pitches from 2015-present\n",
    "pitches_lf = statcast_pitches.load()"
   ]
  },
  {
   "cell_type": "code",
   "execution_count": null,
   "metadata": {},
   "outputs": [],
   "source": [
    "# Print the head of the DataFrame\n",
    "# Collect the LazyFrame to execute and view data\n",
    "pitches_df = pitches_lf.collect()"
   ]
  },
  {
   "cell_type": "code",
   "execution_count": null,
   "metadata": {},
   "outputs": [
    {
     "data": {
      "text/plain": [
       "shape: (5, 113)\n",
       "┌───────────┬───────────┬───────────┬───────────┬───┬───────────┬───────────┬───────────┬──────────┐\n",
       "│ pitch_typ ┆ game_date ┆ release_s ┆ release_p ┆ … ┆ api_break ┆ api_break ┆ api_break ┆ arm_angl │\n",
       "│ e         ┆ ---       ┆ peed      ┆ os_x      ┆   ┆ _z_with_g ┆ _x_arm    ┆ _x_batter ┆ e        │\n",
       "│ ---       ┆ datetime[ ┆ ---       ┆ ---       ┆   ┆ ravity    ┆ ---       ┆ _in       ┆ ---      │\n",
       "│ str       ┆ μs]       ┆ f64       ┆ f64       ┆   ┆ ---       ┆ f64       ┆ ---       ┆ f64      │\n",
       "│           ┆           ┆           ┆           ┆   ┆ f64       ┆           ┆ f64       ┆          │\n",
       "╞═══════════╪═══════════╪═══════════╪═══════════╪═══╪═══════════╪═══════════╪═══════════╪══════════╡\n",
       "│ KC        ┆ 2024-10-3 ┆ 77.5      ┆ -1.11     ┆ … ┆ 5.23      ┆ -1.08     ┆ 1.08      ┆ 53.2     │\n",
       "│           ┆ 0         ┆           ┆           ┆   ┆           ┆           ┆           ┆          │\n",
       "│           ┆ 00:00:00  ┆           ┆           ┆   ┆           ┆           ┆           ┆          │\n",
       "│ KC        ┆ 2024-10-3 ┆ 78.7      ┆ -1.01     ┆ … ┆ 5.28      ┆ -1.05     ┆ 1.05      ┆ 54.2     │\n",
       "│           ┆ 0         ┆           ┆           ┆   ┆           ┆           ┆           ┆          │\n",
       "│           ┆ 00:00:00  ┆           ┆           ┆   ┆           ┆           ┆           ┆          │\n",
       "│ FC        ┆ 2024-10-3 ┆ 93.1      ┆ -1.19     ┆ … ┆ 1.89      ┆ -0.53     ┆ 0.53      ┆ 44.8     │\n",
       "│           ┆ 0         ┆           ┆           ┆   ┆           ┆           ┆           ┆          │\n",
       "│           ┆ 00:00:00  ┆           ┆           ┆   ┆           ┆           ┆           ┆          │\n",
       "│ KC        ┆ 2024-10-3 ┆ 78.5      ┆ -1.19     ┆ … ┆ 5.16      ┆ -1.05     ┆ 1.05      ┆ 51.9     │\n",
       "│           ┆ 0         ┆           ┆           ┆   ┆           ┆           ┆           ┆          │\n",
       "│           ┆ 00:00:00  ┆           ┆           ┆   ┆           ┆           ┆           ┆          │\n",
       "│ KC        ┆ 2024-10-3 ┆ 77.4      ┆ -1.23     ┆ … ┆ 5.2       ┆ -1.08     ┆ 1.08      ┆ 50.0     │\n",
       "│           ┆ 0         ┆           ┆           ┆   ┆           ┆           ┆           ┆          │\n",
       "│           ┆ 00:00:00  ┆           ┆           ┆   ┆           ┆           ┆           ┆          │\n",
       "└───────────┴───────────┴───────────┴───────────┴───┴───────────┴───────────┴───────────┴──────────┘\n",
       "['pitch_type', 'game_date', 'release_speed', 'release_pos_x', 'release_pos_z', 'player_name', 'batter', 'pitcher', 'events', 'description', 'spin_dir', 'spin_rate_deprecated', 'break_angle_deprecated', 'break_length_deprecated', 'zone', 'des', 'game_type', 'stand', 'p_throws', 'home_team', 'away_team', 'type', 'hit_location', 'bb_type', 'balls', 'strikes', 'game_year', 'pfx_x', 'pfx_z', 'plate_x', 'plate_z', 'on_3b', 'on_2b', 'on_1b', 'outs_when_up', 'inning', 'inning_topbot', 'hc_x', 'hc_y', 'tfs_deprecated', 'tfs_zulu_deprecated', 'umpire', 'sv_id', 'vx0', 'vy0', 'vz0', 'ax', 'ay', 'az', 'sz_top', 'sz_bot', 'hit_distance_sc', 'launch_speed', 'launch_angle', 'effective_speed', 'release_spin_rate', 'release_extension', 'game_pk', 'fielder_2', 'fielder_3', 'fielder_4', 'fielder_5', 'fielder_6', 'fielder_7', 'fielder_8', 'fielder_9', 'release_pos_y', 'estimated_ba_using_speedangle', 'estimated_woba_using_speedangle', 'woba_value', 'woba_denom', 'babip_value', 'iso_value', 'launch_speed_angle', 'at_bat_number', 'pitch_number', 'pitch_name', 'home_score', 'away_score', 'bat_score', 'fld_score', 'post_away_score', 'post_home_score', 'post_bat_score', 'post_fld_score', 'if_fielding_alignment', 'of_fielding_alignment', 'spin_axis', 'delta_home_win_exp', 'delta_run_exp', 'bat_speed', 'swing_length', 'estimated_slg_using_speedangle', 'delta_pitcher_run_exp', 'hyper_speed', 'home_score_diff', 'bat_score_diff', 'home_win_exp', 'bat_win_exp', 'age_pit_legacy', 'age_bat_legacy', 'age_pit', 'age_bat', 'n_thruorder_pitcher', 'n_priorpa_thisgame_player_at_bat', 'pitcher_days_since_prev_game', 'batter_days_since_prev_game', 'pitcher_days_until_next_game', 'batter_days_until_next_game', 'api_break_z_with_gravity', 'api_break_x_arm', 'api_break_x_batter_in', 'arm_angle']\n"
      ]
     },
     "metadata": {},
     "output_type": "display_data"
    }
   ],
   "source": [
    "# Print the head of the DataFrame\n",
    "print(pitches_df.head())\n",
    "print(pitches_df.columns)"
   ]
  },
  {
   "cell_type": "code",
   "execution_count": null,
   "metadata": {},
   "outputs": [
    {
     "data": {
      "text/plain": [
       "shape: (10, 2)\n",
       "┌──────┬───────────┐\n",
       "│ year ┆ row_count │\n",
       "│ ---  ┆ ---       │\n",
       "│ i32  ┆ u32       │\n",
       "╞══════╪═══════════╡\n",
       "│ 2015 ┆ 712839    │\n",
       "│ 2016 ┆ 726273    │\n",
       "│ 2017 ┆ 732477    │\n",
       "│ 2018 ┆ 731207    │\n",
       "│ 2019 ┆ 760498    │\n",
       "│ 2020 ┆ 279660    │\n",
       "│ 2021 ┆ 763191    │\n",
       "│ 2022 ┆ 773618    │\n",
       "│ 2023 ┆ 771057    │\n",
       "│ 2024 ┆ 757713    │\n",
       "└──────┴───────────┘\n"
      ]
     },
     "metadata": {},
     "output_type": "display_data"
    }
   ],
   "source": [
    "# Count rows for each year in 'game_date'\n",
    "yearly_counts = (pitches_lf\n",
    "    .with_columns(pl.col(\"game_date\").dt.year().alias(\"year\"))  # Extract year from game_date\n",
    "    .group_by(\"year\")  # Group by year\n",
    "    .agg(pl.count().alias(\"row_count\"))  # Count rows for each year\n",
    "    .sort(\"year\") # Sort by year\n",
    "    .collect()  # Collect the result into a DataFrame\n",
    ")\n",
    "\n",
    "# Print the yearly counts\n",
    "print(yearly_counts)"
   ]
  },
  {
   "cell_type": "code",
   "execution_count": null,
   "metadata": {},
   "outputs": [
    {
     "data": {
      "text/plain": [
       "shape: (1_242_704, 5)\n",
       "┌───────────┬───────────────┬─────────────┬──────────────┬──────────────┐\n",
       "│ events    ┆ description   ┆ bb_type     ┆ launch_speed ┆ launch_angle │\n",
       "│ ---       ┆ ---           ┆ ---         ┆ ---          ┆ ---          │\n",
       "│ str       ┆ str           ┆ str         ┆ f64          ┆ f64          │\n",
       "╞═══════════╪═══════════════╪═════════════╪══════════════╪══════════════╡\n",
       "│ field_out ┆ hit_into_play ┆ ground_ball ┆ 92.4         ┆ -13.0        │\n",
       "│ field_out ┆ hit_into_play ┆ ground_ball ┆ 102.7        ┆ 0.0          │\n",
       "│ field_out ┆ hit_into_play ┆ fly_ball    ┆ 103.3        ┆ 23.0         │\n",
       "│ single    ┆ hit_into_play ┆ ground_ball ┆ 99.3         ┆ 1.0          │\n",
       "│ field_out ┆ hit_into_play ┆ fly_ball    ┆ 94.5         ┆ 58.0         │\n",
       "│ …         ┆ …             ┆ …           ┆ …            ┆ …            │\n",
       "│ field_out ┆ hit_into_play ┆ ground_ball ┆ null         ┆ null         │\n",
       "│ double    ┆ hit_into_play ┆ line_drive  ┆ null         ┆ null         │\n",
       "│ single    ┆ hit_into_play ┆ line_drive  ┆ null         ┆ null         │\n",
       "│ double    ┆ hit_into_play ┆ line_drive  ┆ null         ┆ null         │\n",
       "│ field_out ┆ hit_into_play ┆ ground_ball ┆ null         ┆ null         │\n",
       "└───────────┴───────────────┴─────────────┴──────────────┴──────────────┘\n"
      ]
     },
     "metadata": {},
     "output_type": "display_data"
    }
   ],
   "source": [
    "dataset = (pitches_lf\n",
    "          .filter(pl.col(\"description\") == \"hit_into_play\")\n",
    "          .select(\"events\",\"description\",\"bb_type\",\n",
    "                  \"launch_speed\",\"launch_angle\")\n",
    "          .collect())\n",
    "print(dataset)"
   ]
  },
  {
   "cell_type": "code",
   "execution_count": null,
   "metadata": {},
   "outputs": [
    {
     "data": {
      "text/plain": [
       "['events', 'description', 'bb_type', 'launch_speed', 'launch_angle']\n"
      ]
     },
     "metadata": {},
     "output_type": "display_data"
    }
   ],
   "source": [
    "print(dataset.columns)"
   ]
  },
  {
   "cell_type": "code",
   "execution_count": null,
   "metadata": {},
   "outputs": [
    {
     "data": {
      "text/plain": [
       "sac_bunt_double_play\n",
       "fielders_choice_out\n",
       "game_advisory\n",
       "None\n",
       "grounded_into_double_play\n",
       "ejection\n",
       "single\n",
       "double\n",
       "double_play\n",
       "sac_fly\n",
       "sac_bunt\n",
       "triple_play\n",
       "field_error\n",
       "home_run\n",
       "triple\n",
       "force_out\n",
       "fielders_choice\n",
       "sac_fly_double_play\n",
       "catcher_interf\n",
       "field_out\n"
      ]
     },
     "metadata": {},
     "output_type": "display_data"
    }
   ],
   "source": [
    "# Print unique descriptions (vertically)\n",
    "for event in dataset[\"events\"].unique().to_list():\n",
    "    print(event)"
   ]
  },
  {
   "cell_type": "code",
   "execution_count": null,
   "metadata": {},
   "outputs": [
    {
     "data": {
      "text/plain": [
       "shape: (1_242_704, 6)\n",
       "┌───────────┬───────────────┬─────────────┬──────────────┬──────────────┬───────────────┐\n",
       "│ events    ┆ description   ┆ bb_type     ┆ launch_speed ┆ launch_angle ┆ target        │\n",
       "│ ---       ┆ ---           ┆ ---         ┆ ---          ┆ ---          ┆ ---           │\n",
       "│ str       ┆ str           ┆ str         ┆ f64          ┆ f64          ┆ str           │\n",
       "╞═══════════╪═══════════════╪═════════════╪══════════════╪══════════════╪═══════════════╡\n",
       "│ field_out ┆ hit_into_play ┆ ground_ball ┆ 92.4         ┆ -13.0        ┆ Groundoutable │\n",
       "│ field_out ┆ hit_into_play ┆ ground_ball ┆ 102.7        ┆ 0.0          ┆ Groundoutable │\n",
       "│ field_out ┆ hit_into_play ┆ fly_ball    ┆ 103.3        ┆ 23.0         ┆ Flyoutable    │\n",
       "│ single    ┆ hit_into_play ┆ ground_ball ┆ 99.3         ┆ 1.0          ┆ Single        │\n",
       "│ field_out ┆ hit_into_play ┆ fly_ball    ┆ 94.5         ┆ 58.0         ┆ Flyoutable    │\n",
       "│ …         ┆ …             ┆ …           ┆ …            ┆ …            ┆ …             │\n",
       "│ field_out ┆ hit_into_play ┆ ground_ball ┆ null         ┆ null         ┆ Groundoutable │\n",
       "│ double    ┆ hit_into_play ┆ line_drive  ┆ null         ┆ null         ┆ Double        │\n",
       "│ single    ┆ hit_into_play ┆ line_drive  ┆ null         ┆ null         ┆ Single        │\n",
       "│ double    ┆ hit_into_play ┆ line_drive  ┆ null         ┆ null         ┆ Double        │\n",
       "│ field_out ┆ hit_into_play ┆ ground_ball ┆ null         ┆ null         ┆ Groundoutable │\n",
       "└───────────┴───────────────┴─────────────┴──────────────┴──────────────┴───────────────┘\n",
       "Traceback (most recent call last):\n",
       "  File \"c:\\Users\\mla21\\.vscode\\extensions\\ms-python.python-2024.22.1-win32-x64\\python_files\\python_server.py\", line 133, in exec_user_input\n",
       "    retval = callable_(user_input, user_globals)\n",
       "  File \"<string>\", line 26, in <module>\n",
       "AttributeError: 'DataFrame' object has no attribute 'collect'\n",
       "\n"
      ]
     },
     "metadata": {},
     "output_type": "display_data"
    }
   ],
   "source": [
    "# Mutate target column\n",
    "hits = [\"single\", \"double\", \"triple\", \"home_run\"]\n",
    "\n",
    "dataset = dataset.with_columns(\n",
    "    pl.when(pl.col(\"events\") == \"single\")\n",
    "        .then(pl.lit(\"Single\"))\n",
    "      .when(pl.col(\"events\") == \"double\")\n",
    "        .then(pl.lit(\"Double\"))\n",
    "      .when(pl.col(\"events\") == \"triple\")\n",
    "        .then(pl.lit(\"Triple\"))\n",
    "      .when(pl.col(\"events\") == \"home_run\")\n",
    "        .then(pl.lit(\"Homerun\"))\n",
    "      .when((~pl.col(\"events\").is_in(hits)) & (pl.col(\"bb_type\") == \"ground_ball\"))\n",
    "        .then(pl.lit(\"Groundoutable\"))\n",
    "      .when((~pl.col(\"events\").is_in(hits)) & (pl.col(\"bb_type\") == \"fly_ball\"))\n",
    "        .then(pl.lit(\"Flyoutable\"))\n",
    "      .when((~pl.col(\"events\").is_in(hits)) & (pl.col(\"bb_type\") == \"line_drive\"))\n",
    "        .then(pl.lit(\"Lineoutable\"))\n",
    "      .otherwise(pl.lit(\"Other\"))\n",
    "      .alias(\"target\")\n",
    ")\n",
    "\n",
    "# Display the modified dataset\n",
    "print(dataset)\n",
    "\n",
    "dataset = dataset.collect()"
   ]
  },
  {
   "cell_type": "code",
   "execution_count": null,
   "metadata": {},
   "outputs": [
    {
     "data": {
      "text/plain": [
       "shape: (10,)\n",
       "Series: 'target' [str]\n",
       "[\n",
       "\t\"Groundoutable\"\n",
       "\t\"Groundoutable\"\n",
       "\t\"Flyoutable\"\n",
       "\t\"Single\"\n",
       "\t\"Flyoutable\"\n",
       "\t\"Double\"\n",
       "\t\"Groundoutable\"\n",
       "\t\"Flyoutable\"\n",
       "\t\"Flyoutable\"\n",
       "\t\"Single\"\n",
       "]\n"
      ]
     },
     "metadata": {},
     "output_type": "display_data"
    }
   ],
   "source": [
    "print(dataset[\"target\"].head())"
   ]
  },
  {
   "cell_type": "code",
   "execution_count": null,
   "metadata": {},
   "outputs": [
    {
     "data": {
      "text/plain": [
       "shape: (1_114_608, 3)\n",
       "┌──────────────┬──────────────┬───────────────┐\n",
       "│ launch_speed ┆ launch_angle ┆ target        │\n",
       "│ ---          ┆ ---          ┆ ---           │\n",
       "│ f64          ┆ f64          ┆ str           │\n",
       "╞══════════════╪══════════════╪═══════════════╡\n",
       "│ 92.4         ┆ -13.0        ┆ Groundoutable │\n",
       "│ 102.7        ┆ 0.0          ┆ Groundoutable │\n",
       "│ 103.3        ┆ 23.0         ┆ Flyoutable    │\n",
       "│ 99.3         ┆ 1.0          ┆ Single        │\n",
       "│ 94.5         ┆ 58.0         ┆ Flyoutable    │\n",
       "│ …            ┆ …            ┆ …             │\n",
       "│ 88.5         ┆ -12.0        ┆ Groundoutable │\n",
       "│ 76.4         ┆ 50.0         ┆ Double        │\n",
       "│ 99.2         ┆ 31.0         ┆ Flyoutable    │\n",
       "│ 85.0         ┆ 25.0         ┆ Double        │\n",
       "│ 83.6         ┆ 13.0         ┆ Single        │\n",
       "└──────────────┴──────────────┴───────────────┘\n",
       "Number of rows: 1114608\n"
      ]
     },
     "metadata": {},
     "output_type": "display_data"
    }
   ],
   "source": [
    "dataset = (dataset\n",
    "           .filter(pl.col(\"target\") != \"Other\")\n",
    "           .filter(~pl.col(\"launch_speed\").is_null())\n",
    "           .filter(~pl.col(\"launch_angle\").is_null())\n",
    "           .select(\"launch_speed\",\"launch_angle\",\"target\"))\n",
    "print(dataset)\n",
    "\n",
    "row_count = dataset.shape[0]\n",
    "print(f\"Number of rows: {row_count}\")"
   ]
  },
  {
   "cell_type": "code",
   "execution_count": null,
   "metadata": {},
   "outputs": [],
   "source": [
    "# Write to csv\n",
    "dataset.write_csv(\"dataset.csv\")"
   ]
  }
 ],
 "metadata": {
  "language_info": {
   "name": "python"
  }
 },
 "nbformat": 4,
 "nbformat_minor": 2
}
